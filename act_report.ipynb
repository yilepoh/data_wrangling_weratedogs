{
 "cells": [
  {
   "cell_type": "markdown",
   "metadata": {},
   "source": [
    "# Twitter Dogs ft. WeRateDogs"
   ]
  },
  {
   "cell_type": "markdown",
   "metadata": {},
   "source": [
    "## Introduction:\n",
    "\n",
    "Everybody (almost) likes dog. \n",
    "\n",
    "They are faithful, uplifting and most importantly, adorable. In this digital era, we love to share information on the internet. As internet gets more and more common, naturally, people would share pictures of their beloved dogs on the internet for others to enjoy and have a smile looking at the pictures! (just like the one below)\n",
    "\n",
    "<img src=\"img/dog_corgi.jpg\" alt=\"drawing\" width=\"400\"/>"
   ]
  },
  {
   "cell_type": "markdown",
   "metadata": {},
   "source": [
    "On twitter, user **@dog_rates**, better known as **WeRateDogs**, rates your dog when you submit a picture to them!\n",
    "\n",
    "As part of my Nanodegree project, I have collected some data from Twitter and analysed it. Let us see what interesting insights we got out from it!"
   ]
  },
  {
   "cell_type": "markdown",
   "metadata": {},
   "source": [
    "## How does WeRateDogs rate your beloved dog?\n",
    "\n",
    "As the name suggested, WeRateDogs rate your dogs. \n",
    "\n",
    "It is important to know how they rate the dogs. Are the dogs being given a fair score? Are dogs being discriminated? Should you be worried that your dogs get a low rating?\n",
    "\n",
    "Let us first look at the distribution of the ratings given by WeRateDogs."
   ]
  },
  {
   "cell_type": "markdown",
   "metadata": {},
   "source": [
    "<img src=\"img/analysis_1.png\" alt=\"drawing\" width=\"700\"/>"
   ]
  },
  {
   "cell_type": "markdown",
   "metadata": {},
   "source": [
    "Seems like the distribution is heavily skewed to the left. This distribution can be confirmed when we look at some numbers.\n",
    "Let R be the ratings.\n",
    "\n",
    "$$R_{median} = 1.10$$ \n",
    "$$R_{mean} = 1.06$$ \n",
    "\n",
    "One characteristic of left skewed distribution is that, the median is greater than the mean. \n",
    "\n",
    "So what does this mean? This is good news!\n",
    "\n",
    "Because according to our analysis, you as a dog owner do not to worry about receiving a poor rating. Most likely your dogs will be rated fairly, receiving a score greater than 100%. Their rating system is acording to their philisophy of \"They're good dogs Brent\"\n",
    "\n",
    "What more can you ask for? Upload pictures of your dogs, get your dogs rated fairly and share the happiness with the world."
   ]
  },
  {
   "cell_type": "markdown",
   "metadata": {},
   "source": [
    "## How does a dog lover behaves on Twitter?\n",
    "\n",
    "We all have a time that we are excited and we just want to tell others what we just saw. On Twitter, you can easily do that by retweeting your favourite tweet! But wait, you can also 'favourite' your favourite tweets as well. \n",
    "\n",
    "This leads us to ask a simple question. Do people use the retweet and favourite function in conjunction? (Especially when they see a tweet about adorable dogs)"
   ]
  },
  {
   "cell_type": "markdown",
   "metadata": {},
   "source": [
    "<img src=\"img/analysis_2.png\" alt=\"drawing\" width=\"700\"/>"
   ]
  },
  {
   "cell_type": "markdown",
   "metadata": {},
   "source": [
    "The scatter plot above shows that there is indeed a strong correlation between the favourite count and the retweet count. Of all the tweets we analysed, if a tweet is being 'favourited' more, it will get more 'retweets'. To be exact, if a tweet is being 'favourited', theres a 30% chance that it will be retweeted. \n",
    "\n",
    "This analysis showed us that dog lovers uses favourite and retweet function in conjunction 30% of the time. This all makes sense, as people like to share things that they like, especially if it is cute dogs!"
   ]
  },
  {
   "cell_type": "markdown",
   "metadata": {},
   "source": [
    "## Doggo, Pupper, Puppo and Floofer?"
   ]
  },
  {
   "cell_type": "markdown",
   "metadata": {},
   "source": [
    "If you dont know what they means, you can look up in the \"Dogtionary\". To bring context, these are the names for the different stages dogs go through. These names are cute, no doubt. Personally, it makes me want to read the tweet more, and probably share it with my friends. \n",
    "\n",
    "In our final study, we want to find out if the inclusion of these names from the Dogtionary increases the retweet count of the tweet. To do that, we ran an A/B test on the average retweet count for tweets with the names and the tweets without the names.\n",
    "\n",
    "Here's the result!"
   ]
  },
  {
   "cell_type": "markdown",
   "metadata": {},
   "source": [
    "<img src=\"img/analysis_3a.png\" alt=\"drawing\" width=\"700\"/>"
   ]
  },
  {
   "cell_type": "markdown",
   "metadata": {},
   "source": [
    "*From now onwards, we will refer to tweets with the names as dogtionary tweets, and tweets without the names as normal tweets.*\n",
    "\n",
    "This graphs shows the distribution of the mean difference in retweet count between the dogtionary tweets and the normal tweets, assuming that the tweets have inherently no difference in retweet count, this would be the distribution of their differences.\n",
    "\n",
    "On our sample data we've collected, we have found the mean difference of retweet count between the dogtionary tweets and the normal tweets to be around 1,200. This is indicated on the figure above as the red lines.\n",
    "\n",
    "Having these information, we can analyse if the difference observed has statistical significance. This is done by evaluating the p-value (probability of observing the differences assuming there are no differences in the first place, aka proabbility of observing the difference due to pure chance). \n",
    "\n",
    "If the p-value is found to be below 0.05, the difference is said to be statistically significant.\n",
    "In our study, we obtain a p-value of 0.0076! This means that the observed difference is statistically significant!\n",
    "\n",
    "On a practical term, is an increase of 1,200 retweet significant?\n",
    "\n",
    "Let us first look at the distribution of WeRateDog's retweet count."
   ]
  },
  {
   "cell_type": "markdown",
   "metadata": {},
   "source": [
    "<img src=\"img/analysis_3b.png\" alt=\"drawing\" width=\"500\"/>"
   ]
  },
  {
   "cell_type": "markdown",
   "metadata": {},
   "source": [
    "From the retweet distribution, we can see that majority of the tweets are below 10,000 retweets. An average increase of 1,200 retweet counts is significant!\n",
    "\n",
    "What does this mean?\n",
    "\n",
    "In simple terms, the usage of doggo, puppo, pupper and floofer increases the retweet count! WeRateDogs can make their tweets more likable by including these names in their tweet which could potentially make a difference in their average retweet count! ;)"
   ]
  },
  {
   "cell_type": "markdown",
   "metadata": {},
   "source": [
    "## Conclusion:\n",
    "\n",
    "From our analysis, we have found some interesting insights. \n",
    "1. On average, dogs are rated more than 100% by WeRateDogs (because they are good dogs) \n",
    "2. Dog lovers retweet their favourite tweets 30% of the time\n",
    "3. Tweets with Doggo, Puppo, Pupper and Floofer have different average retweet counts from the normal tweets without them.\n",
    "\n",
    "Thank you for reading!"
   ]
  }
 ],
 "metadata": {
  "kernelspec": {
   "display_name": "Python 3",
   "language": "python",
   "name": "python3"
  },
  "language_info": {
   "codemirror_mode": {
    "name": "ipython",
    "version": 3
   },
   "file_extension": ".py",
   "mimetype": "text/x-python",
   "name": "python",
   "nbconvert_exporter": "python",
   "pygments_lexer": "ipython3",
   "version": "3.6.5"
  }
 },
 "nbformat": 4,
 "nbformat_minor": 2
}
